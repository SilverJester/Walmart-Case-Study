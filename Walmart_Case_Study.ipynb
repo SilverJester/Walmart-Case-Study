{
  "nbformat": 4,
  "nbformat_minor": 0,
  "metadata": {
    "colab": {
      "provenance": [],
      "toc_visible": true,
      "mount_file_id": "18p9f8-C3H2afiB_sBRnijI1Pz8Nwa1mx",
      "authorship_tag": "ABX9TyNVjDl2gqZ1l89aEBtpLM9Q",
      "include_colab_link": true
    },
    "kernelspec": {
      "name": "python3",
      "display_name": "Python 3"
    },
    "language_info": {
      "name": "python"
    }
  },
  "cells": [
    {
      "cell_type": "markdown",
      "metadata": {
        "id": "view-in-github",
        "colab_type": "text"
      },
      "source": [
        "<a href=\"https://colab.research.google.com/github/SilverJester/Walmart-Case-Study/blob/main/Walmart_Case_Study.ipynb\" target=\"_parent\"><img src=\"https://colab.research.google.com/assets/colab-badge.svg\" alt=\"Open In Colab\"/></a>"
      ]
    },
    {
      "cell_type": "markdown",
      "source": [
        "# Objective of Case Study"
      ],
      "metadata": {
        "id": "0OgcOzeqFJrH"
      }
    },
    {
      "cell_type": "markdown",
      "source": [
        "To analyze the customer purchase behavior (specifically, purchase amount) against the customer’s gender,marital status and the various other factors to help the business make better decisions"
      ],
      "metadata": {
        "id": "dTjAz92iFMww"
      }
    },
    {
      "cell_type": "markdown",
      "source": [
        "# Importing necessary libraries"
      ],
      "metadata": {
        "id": "FSo3K0ME8RR1"
      }
    },
    {
      "cell_type": "code",
      "execution_count": null,
      "metadata": {
        "id": "eignMandpUdr"
      },
      "outputs": [],
      "source": [
        "import pandas as pd\n",
        "import numpy as np\n",
        "from scipy.stats import norm,binom\n",
        "import matplotlib.pyplot as plt\n",
        "import seaborn as sns"
      ]
    },
    {
      "cell_type": "markdown",
      "source": [
        "# Reading the dataset"
      ],
      "metadata": {
        "id": "CPk9nE0781g5"
      }
    },
    {
      "cell_type": "code",
      "source": [
        "path='/content/drive/MyDrive/Practice datasets /walmart_data.csv'\n",
        "df=pd.read_csv(path)\n",
        "df.head()"
      ],
      "metadata": {
        "colab": {
          "base_uri": "https://localhost:8080/",
          "height": 295
        },
        "id": "z48z2JRU8yFv",
        "outputId": "8680905c-b2bf-4bfc-ee03-948aab9cbc9a"
      },
      "execution_count": null,
      "outputs": [
        {
          "output_type": "execute_result",
          "data": {
            "text/plain": [
              "   User_ID Product_ID Gender   Age  Occupation City_Category  \\\n",
              "0  1000001  P00069042      F  0-17          10             A   \n",
              "1  1000001  P00248942      F  0-17          10             A   \n",
              "2  1000001  P00087842      F  0-17          10             A   \n",
              "3  1000001  P00085442      F  0-17          10             A   \n",
              "4  1000002  P00285442      M   55+          16             C   \n",
              "\n",
              "  Stay_In_Current_City_Years  Marital_Status  Product_Category  Purchase  \n",
              "0                          2               0                 3      8370  \n",
              "1                          2               0                 1     15200  \n",
              "2                          2               0                12      1422  \n",
              "3                          2               0                12      1057  \n",
              "4                         4+               0                 8      7969  "
            ],
            "text/html": [
              "\n",
              "  <div id=\"df-f323be98-7ade-43b8-b5e1-a13b3e41201f\" class=\"colab-df-container\">\n",
              "    <div>\n",
              "<style scoped>\n",
              "    .dataframe tbody tr th:only-of-type {\n",
              "        vertical-align: middle;\n",
              "    }\n",
              "\n",
              "    .dataframe tbody tr th {\n",
              "        vertical-align: top;\n",
              "    }\n",
              "\n",
              "    .dataframe thead th {\n",
              "        text-align: right;\n",
              "    }\n",
              "</style>\n",
              "<table border=\"1\" class=\"dataframe\">\n",
              "  <thead>\n",
              "    <tr style=\"text-align: right;\">\n",
              "      <th></th>\n",
              "      <th>User_ID</th>\n",
              "      <th>Product_ID</th>\n",
              "      <th>Gender</th>\n",
              "      <th>Age</th>\n",
              "      <th>Occupation</th>\n",
              "      <th>City_Category</th>\n",
              "      <th>Stay_In_Current_City_Years</th>\n",
              "      <th>Marital_Status</th>\n",
              "      <th>Product_Category</th>\n",
              "      <th>Purchase</th>\n",
              "    </tr>\n",
              "  </thead>\n",
              "  <tbody>\n",
              "    <tr>\n",
              "      <th>0</th>\n",
              "      <td>1000001</td>\n",
              "      <td>P00069042</td>\n",
              "      <td>F</td>\n",
              "      <td>0-17</td>\n",
              "      <td>10</td>\n",
              "      <td>A</td>\n",
              "      <td>2</td>\n",
              "      <td>0</td>\n",
              "      <td>3</td>\n",
              "      <td>8370</td>\n",
              "    </tr>\n",
              "    <tr>\n",
              "      <th>1</th>\n",
              "      <td>1000001</td>\n",
              "      <td>P00248942</td>\n",
              "      <td>F</td>\n",
              "      <td>0-17</td>\n",
              "      <td>10</td>\n",
              "      <td>A</td>\n",
              "      <td>2</td>\n",
              "      <td>0</td>\n",
              "      <td>1</td>\n",
              "      <td>15200</td>\n",
              "    </tr>\n",
              "    <tr>\n",
              "      <th>2</th>\n",
              "      <td>1000001</td>\n",
              "      <td>P00087842</td>\n",
              "      <td>F</td>\n",
              "      <td>0-17</td>\n",
              "      <td>10</td>\n",
              "      <td>A</td>\n",
              "      <td>2</td>\n",
              "      <td>0</td>\n",
              "      <td>12</td>\n",
              "      <td>1422</td>\n",
              "    </tr>\n",
              "    <tr>\n",
              "      <th>3</th>\n",
              "      <td>1000001</td>\n",
              "      <td>P00085442</td>\n",
              "      <td>F</td>\n",
              "      <td>0-17</td>\n",
              "      <td>10</td>\n",
              "      <td>A</td>\n",
              "      <td>2</td>\n",
              "      <td>0</td>\n",
              "      <td>12</td>\n",
              "      <td>1057</td>\n",
              "    </tr>\n",
              "    <tr>\n",
              "      <th>4</th>\n",
              "      <td>1000002</td>\n",
              "      <td>P00285442</td>\n",
              "      <td>M</td>\n",
              "      <td>55+</td>\n",
              "      <td>16</td>\n",
              "      <td>C</td>\n",
              "      <td>4+</td>\n",
              "      <td>0</td>\n",
              "      <td>8</td>\n",
              "      <td>7969</td>\n",
              "    </tr>\n",
              "  </tbody>\n",
              "</table>\n",
              "</div>\n",
              "    <div class=\"colab-df-buttons\">\n",
              "\n",
              "  <div class=\"colab-df-container\">\n",
              "    <button class=\"colab-df-convert\" onclick=\"convertToInteractive('df-f323be98-7ade-43b8-b5e1-a13b3e41201f')\"\n",
              "            title=\"Convert this dataframe to an interactive table.\"\n",
              "            style=\"display:none;\">\n",
              "\n",
              "  <svg xmlns=\"http://www.w3.org/2000/svg\" height=\"24px\" viewBox=\"0 -960 960 960\">\n",
              "    <path d=\"M120-120v-720h720v720H120Zm60-500h600v-160H180v160Zm220 220h160v-160H400v160Zm0 220h160v-160H400v160ZM180-400h160v-160H180v160Zm440 0h160v-160H620v160ZM180-180h160v-160H180v160Zm440 0h160v-160H620v160Z\"/>\n",
              "  </svg>\n",
              "    </button>\n",
              "\n",
              "  <style>\n",
              "    .colab-df-container {\n",
              "      display:flex;\n",
              "      gap: 12px;\n",
              "    }\n",
              "\n",
              "    .colab-df-convert {\n",
              "      background-color: #E8F0FE;\n",
              "      border: none;\n",
              "      border-radius: 50%;\n",
              "      cursor: pointer;\n",
              "      display: none;\n",
              "      fill: #1967D2;\n",
              "      height: 32px;\n",
              "      padding: 0 0 0 0;\n",
              "      width: 32px;\n",
              "    }\n",
              "\n",
              "    .colab-df-convert:hover {\n",
              "      background-color: #E2EBFA;\n",
              "      box-shadow: 0px 1px 2px rgba(60, 64, 67, 0.3), 0px 1px 3px 1px rgba(60, 64, 67, 0.15);\n",
              "      fill: #174EA6;\n",
              "    }\n",
              "\n",
              "    .colab-df-buttons div {\n",
              "      margin-bottom: 4px;\n",
              "    }\n",
              "\n",
              "    [theme=dark] .colab-df-convert {\n",
              "      background-color: #3B4455;\n",
              "      fill: #D2E3FC;\n",
              "    }\n",
              "\n",
              "    [theme=dark] .colab-df-convert:hover {\n",
              "      background-color: #434B5C;\n",
              "      box-shadow: 0px 1px 3px 1px rgba(0, 0, 0, 0.15);\n",
              "      filter: drop-shadow(0px 1px 2px rgba(0, 0, 0, 0.3));\n",
              "      fill: #FFFFFF;\n",
              "    }\n",
              "  </style>\n",
              "\n",
              "    <script>\n",
              "      const buttonEl =\n",
              "        document.querySelector('#df-f323be98-7ade-43b8-b5e1-a13b3e41201f button.colab-df-convert');\n",
              "      buttonEl.style.display =\n",
              "        google.colab.kernel.accessAllowed ? 'block' : 'none';\n",
              "\n",
              "      async function convertToInteractive(key) {\n",
              "        const element = document.querySelector('#df-f323be98-7ade-43b8-b5e1-a13b3e41201f');\n",
              "        const dataTable =\n",
              "          await google.colab.kernel.invokeFunction('convertToInteractive',\n",
              "                                                    [key], {});\n",
              "        if (!dataTable) return;\n",
              "\n",
              "        const docLinkHtml = 'Like what you see? Visit the ' +\n",
              "          '<a target=\"_blank\" href=https://colab.research.google.com/notebooks/data_table.ipynb>data table notebook</a>'\n",
              "          + ' to learn more about interactive tables.';\n",
              "        element.innerHTML = '';\n",
              "        dataTable['output_type'] = 'display_data';\n",
              "        await google.colab.output.renderOutput(dataTable, element);\n",
              "        const docLink = document.createElement('div');\n",
              "        docLink.innerHTML = docLinkHtml;\n",
              "        element.appendChild(docLink);\n",
              "      }\n",
              "    </script>\n",
              "  </div>\n",
              "\n",
              "\n",
              "<div id=\"df-3774060f-13ed-4be3-b817-bc9c4f6747c0\">\n",
              "  <button class=\"colab-df-quickchart\" onclick=\"quickchart('df-3774060f-13ed-4be3-b817-bc9c4f6747c0')\"\n",
              "            title=\"Suggest charts\"\n",
              "            style=\"display:none;\">\n",
              "\n",
              "<svg xmlns=\"http://www.w3.org/2000/svg\" height=\"24px\"viewBox=\"0 0 24 24\"\n",
              "     width=\"24px\">\n",
              "    <g>\n",
              "        <path d=\"M19 3H5c-1.1 0-2 .9-2 2v14c0 1.1.9 2 2 2h14c1.1 0 2-.9 2-2V5c0-1.1-.9-2-2-2zM9 17H7v-7h2v7zm4 0h-2V7h2v10zm4 0h-2v-4h2v4z\"/>\n",
              "    </g>\n",
              "</svg>\n",
              "  </button>\n",
              "\n",
              "<style>\n",
              "  .colab-df-quickchart {\n",
              "      --bg-color: #E8F0FE;\n",
              "      --fill-color: #1967D2;\n",
              "      --hover-bg-color: #E2EBFA;\n",
              "      --hover-fill-color: #174EA6;\n",
              "      --disabled-fill-color: #AAA;\n",
              "      --disabled-bg-color: #DDD;\n",
              "  }\n",
              "\n",
              "  [theme=dark] .colab-df-quickchart {\n",
              "      --bg-color: #3B4455;\n",
              "      --fill-color: #D2E3FC;\n",
              "      --hover-bg-color: #434B5C;\n",
              "      --hover-fill-color: #FFFFFF;\n",
              "      --disabled-bg-color: #3B4455;\n",
              "      --disabled-fill-color: #666;\n",
              "  }\n",
              "\n",
              "  .colab-df-quickchart {\n",
              "    background-color: var(--bg-color);\n",
              "    border: none;\n",
              "    border-radius: 50%;\n",
              "    cursor: pointer;\n",
              "    display: none;\n",
              "    fill: var(--fill-color);\n",
              "    height: 32px;\n",
              "    padding: 0;\n",
              "    width: 32px;\n",
              "  }\n",
              "\n",
              "  .colab-df-quickchart:hover {\n",
              "    background-color: var(--hover-bg-color);\n",
              "    box-shadow: 0 1px 2px rgba(60, 64, 67, 0.3), 0 1px 3px 1px rgba(60, 64, 67, 0.15);\n",
              "    fill: var(--button-hover-fill-color);\n",
              "  }\n",
              "\n",
              "  .colab-df-quickchart-complete:disabled,\n",
              "  .colab-df-quickchart-complete:disabled:hover {\n",
              "    background-color: var(--disabled-bg-color);\n",
              "    fill: var(--disabled-fill-color);\n",
              "    box-shadow: none;\n",
              "  }\n",
              "\n",
              "  .colab-df-spinner {\n",
              "    border: 2px solid var(--fill-color);\n",
              "    border-color: transparent;\n",
              "    border-bottom-color: var(--fill-color);\n",
              "    animation:\n",
              "      spin 1s steps(1) infinite;\n",
              "  }\n",
              "\n",
              "  @keyframes spin {\n",
              "    0% {\n",
              "      border-color: transparent;\n",
              "      border-bottom-color: var(--fill-color);\n",
              "      border-left-color: var(--fill-color);\n",
              "    }\n",
              "    20% {\n",
              "      border-color: transparent;\n",
              "      border-left-color: var(--fill-color);\n",
              "      border-top-color: var(--fill-color);\n",
              "    }\n",
              "    30% {\n",
              "      border-color: transparent;\n",
              "      border-left-color: var(--fill-color);\n",
              "      border-top-color: var(--fill-color);\n",
              "      border-right-color: var(--fill-color);\n",
              "    }\n",
              "    40% {\n",
              "      border-color: transparent;\n",
              "      border-right-color: var(--fill-color);\n",
              "      border-top-color: var(--fill-color);\n",
              "    }\n",
              "    60% {\n",
              "      border-color: transparent;\n",
              "      border-right-color: var(--fill-color);\n",
              "    }\n",
              "    80% {\n",
              "      border-color: transparent;\n",
              "      border-right-color: var(--fill-color);\n",
              "      border-bottom-color: var(--fill-color);\n",
              "    }\n",
              "    90% {\n",
              "      border-color: transparent;\n",
              "      border-bottom-color: var(--fill-color);\n",
              "    }\n",
              "  }\n",
              "</style>\n",
              "\n",
              "  <script>\n",
              "    async function quickchart(key) {\n",
              "      const quickchartButtonEl =\n",
              "        document.querySelector('#' + key + ' button');\n",
              "      quickchartButtonEl.disabled = true;  // To prevent multiple clicks.\n",
              "      quickchartButtonEl.classList.add('colab-df-spinner');\n",
              "      try {\n",
              "        const charts = await google.colab.kernel.invokeFunction(\n",
              "            'suggestCharts', [key], {});\n",
              "      } catch (error) {\n",
              "        console.error('Error during call to suggestCharts:', error);\n",
              "      }\n",
              "      quickchartButtonEl.classList.remove('colab-df-spinner');\n",
              "      quickchartButtonEl.classList.add('colab-df-quickchart-complete');\n",
              "    }\n",
              "    (() => {\n",
              "      let quickchartButtonEl =\n",
              "        document.querySelector('#df-3774060f-13ed-4be3-b817-bc9c4f6747c0 button');\n",
              "      quickchartButtonEl.style.display =\n",
              "        google.colab.kernel.accessAllowed ? 'block' : 'none';\n",
              "    })();\n",
              "  </script>\n",
              "</div>\n",
              "\n",
              "    </div>\n",
              "  </div>\n"
            ],
            "application/vnd.google.colaboratory.intrinsic+json": {
              "type": "dataframe",
              "variable_name": "df"
            }
          },
          "metadata": {},
          "execution_count": 2
        }
      ]
    },
    {
      "cell_type": "code",
      "source": [
        "df.shape"
      ],
      "metadata": {
        "colab": {
          "base_uri": "https://localhost:8080/"
        },
        "id": "SQhgrin2POLr",
        "outputId": "4b2ae459-1fd2-4391-9332-40c768b7c6f3"
      },
      "execution_count": null,
      "outputs": [
        {
          "output_type": "execute_result",
          "data": {
            "text/plain": [
              "(550068, 10)"
            ]
          },
          "metadata": {},
          "execution_count": 3
        }
      ]
    },
    {
      "cell_type": "code",
      "source": [
        "df.info()"
      ],
      "metadata": {
        "colab": {
          "base_uri": "https://localhost:8080/"
        },
        "id": "Hb0nXEII9J73",
        "outputId": "8eb050d5-c03b-41e6-8df8-fca166647e85"
      },
      "execution_count": null,
      "outputs": [
        {
          "output_type": "stream",
          "name": "stdout",
          "text": [
            "<class 'pandas.core.frame.DataFrame'>\n",
            "RangeIndex: 550068 entries, 0 to 550067\n",
            "Data columns (total 10 columns):\n",
            " #   Column                      Non-Null Count   Dtype \n",
            "---  ------                      --------------   ----- \n",
            " 0   User_ID                     550068 non-null  int64 \n",
            " 1   Product_ID                  550068 non-null  object\n",
            " 2   Gender                      550068 non-null  object\n",
            " 3   Age                         550068 non-null  object\n",
            " 4   Occupation                  550068 non-null  int64 \n",
            " 5   City_Category               550068 non-null  object\n",
            " 6   Stay_In_Current_City_Years  550068 non-null  object\n",
            " 7   Marital_Status              550068 non-null  int64 \n",
            " 8   Product_Category            550068 non-null  int64 \n",
            " 9   Purchase                    550068 non-null  int64 \n",
            "dtypes: int64(5), object(5)\n",
            "memory usage: 42.0+ MB\n"
          ]
        }
      ]
    },
    {
      "cell_type": "code",
      "source": [
        "df['Marital_Status']=df['Marital_Status'].apply(lambda x: 'Married' if x==1 else 'Not Married')"
      ],
      "metadata": {
        "id": "lriGY1t9tL6K"
      },
      "execution_count": null,
      "outputs": []
    },
    {
      "cell_type": "code",
      "source": [
        "\n",
        "for i in df.columns[:-1]:\n",
        "  df[i]=df[i].astype('category')"
      ],
      "metadata": {
        "id": "mVeKuEWnsXp8"
      },
      "execution_count": null,
      "outputs": []
    },
    {
      "cell_type": "code",
      "source": [
        "df.describe(include=\"category\")"
      ],
      "metadata": {
        "id": "E1SJ3JvL-e9J",
        "colab": {
          "base_uri": "https://localhost:8080/",
          "height": 194
        },
        "outputId": "e3ca0cd3-8dc3-45c8-8274-f9f2bdd2c24e"
      },
      "execution_count": null,
      "outputs": [
        {
          "output_type": "execute_result",
          "data": {
            "text/plain": [
              "        User_ID Product_ID  Gender     Age  Occupation City_Category  \\\n",
              "count    550068     550068  550068  550068      550068        550068   \n",
              "unique     5891       3631       2       7          21             3   \n",
              "top     1001680  P00265242       M   26-35           4             B   \n",
              "freq       1026       1880  414259  219587       72308        231173   \n",
              "\n",
              "       Stay_In_Current_City_Years Marital_Status  Product_Category  \n",
              "count                      550068         550068            550068  \n",
              "unique                          5              2                20  \n",
              "top                             1    Not Married                 5  \n",
              "freq                       193821         324731            150933  "
            ],
            "text/html": [
              "\n",
              "  <div id=\"df-8c90915a-367b-4030-9bfe-a2b0d2da3ecf\" class=\"colab-df-container\">\n",
              "    <div>\n",
              "<style scoped>\n",
              "    .dataframe tbody tr th:only-of-type {\n",
              "        vertical-align: middle;\n",
              "    }\n",
              "\n",
              "    .dataframe tbody tr th {\n",
              "        vertical-align: top;\n",
              "    }\n",
              "\n",
              "    .dataframe thead th {\n",
              "        text-align: right;\n",
              "    }\n",
              "</style>\n",
              "<table border=\"1\" class=\"dataframe\">\n",
              "  <thead>\n",
              "    <tr style=\"text-align: right;\">\n",
              "      <th></th>\n",
              "      <th>User_ID</th>\n",
              "      <th>Product_ID</th>\n",
              "      <th>Gender</th>\n",
              "      <th>Age</th>\n",
              "      <th>Occupation</th>\n",
              "      <th>City_Category</th>\n",
              "      <th>Stay_In_Current_City_Years</th>\n",
              "      <th>Marital_Status</th>\n",
              "      <th>Product_Category</th>\n",
              "    </tr>\n",
              "  </thead>\n",
              "  <tbody>\n",
              "    <tr>\n",
              "      <th>count</th>\n",
              "      <td>550068</td>\n",
              "      <td>550068</td>\n",
              "      <td>550068</td>\n",
              "      <td>550068</td>\n",
              "      <td>550068</td>\n",
              "      <td>550068</td>\n",
              "      <td>550068</td>\n",
              "      <td>550068</td>\n",
              "      <td>550068</td>\n",
              "    </tr>\n",
              "    <tr>\n",
              "      <th>unique</th>\n",
              "      <td>5891</td>\n",
              "      <td>3631</td>\n",
              "      <td>2</td>\n",
              "      <td>7</td>\n",
              "      <td>21</td>\n",
              "      <td>3</td>\n",
              "      <td>5</td>\n",
              "      <td>2</td>\n",
              "      <td>20</td>\n",
              "    </tr>\n",
              "    <tr>\n",
              "      <th>top</th>\n",
              "      <td>1001680</td>\n",
              "      <td>P00265242</td>\n",
              "      <td>M</td>\n",
              "      <td>26-35</td>\n",
              "      <td>4</td>\n",
              "      <td>B</td>\n",
              "      <td>1</td>\n",
              "      <td>Not Married</td>\n",
              "      <td>5</td>\n",
              "    </tr>\n",
              "    <tr>\n",
              "      <th>freq</th>\n",
              "      <td>1026</td>\n",
              "      <td>1880</td>\n",
              "      <td>414259</td>\n",
              "      <td>219587</td>\n",
              "      <td>72308</td>\n",
              "      <td>231173</td>\n",
              "      <td>193821</td>\n",
              "      <td>324731</td>\n",
              "      <td>150933</td>\n",
              "    </tr>\n",
              "  </tbody>\n",
              "</table>\n",
              "</div>\n",
              "    <div class=\"colab-df-buttons\">\n",
              "\n",
              "  <div class=\"colab-df-container\">\n",
              "    <button class=\"colab-df-convert\" onclick=\"convertToInteractive('df-8c90915a-367b-4030-9bfe-a2b0d2da3ecf')\"\n",
              "            title=\"Convert this dataframe to an interactive table.\"\n",
              "            style=\"display:none;\">\n",
              "\n",
              "  <svg xmlns=\"http://www.w3.org/2000/svg\" height=\"24px\" viewBox=\"0 -960 960 960\">\n",
              "    <path d=\"M120-120v-720h720v720H120Zm60-500h600v-160H180v160Zm220 220h160v-160H400v160Zm0 220h160v-160H400v160ZM180-400h160v-160H180v160Zm440 0h160v-160H620v160ZM180-180h160v-160H180v160Zm440 0h160v-160H620v160Z\"/>\n",
              "  </svg>\n",
              "    </button>\n",
              "\n",
              "  <style>\n",
              "    .colab-df-container {\n",
              "      display:flex;\n",
              "      gap: 12px;\n",
              "    }\n",
              "\n",
              "    .colab-df-convert {\n",
              "      background-color: #E8F0FE;\n",
              "      border: none;\n",
              "      border-radius: 50%;\n",
              "      cursor: pointer;\n",
              "      display: none;\n",
              "      fill: #1967D2;\n",
              "      height: 32px;\n",
              "      padding: 0 0 0 0;\n",
              "      width: 32px;\n",
              "    }\n",
              "\n",
              "    .colab-df-convert:hover {\n",
              "      background-color: #E2EBFA;\n",
              "      box-shadow: 0px 1px 2px rgba(60, 64, 67, 0.3), 0px 1px 3px 1px rgba(60, 64, 67, 0.15);\n",
              "      fill: #174EA6;\n",
              "    }\n",
              "\n",
              "    .colab-df-buttons div {\n",
              "      margin-bottom: 4px;\n",
              "    }\n",
              "\n",
              "    [theme=dark] .colab-df-convert {\n",
              "      background-color: #3B4455;\n",
              "      fill: #D2E3FC;\n",
              "    }\n",
              "\n",
              "    [theme=dark] .colab-df-convert:hover {\n",
              "      background-color: #434B5C;\n",
              "      box-shadow: 0px 1px 3px 1px rgba(0, 0, 0, 0.15);\n",
              "      filter: drop-shadow(0px 1px 2px rgba(0, 0, 0, 0.3));\n",
              "      fill: #FFFFFF;\n",
              "    }\n",
              "  </style>\n",
              "\n",
              "    <script>\n",
              "      const buttonEl =\n",
              "        document.querySelector('#df-8c90915a-367b-4030-9bfe-a2b0d2da3ecf button.colab-df-convert');\n",
              "      buttonEl.style.display =\n",
              "        google.colab.kernel.accessAllowed ? 'block' : 'none';\n",
              "\n",
              "      async function convertToInteractive(key) {\n",
              "        const element = document.querySelector('#df-8c90915a-367b-4030-9bfe-a2b0d2da3ecf');\n",
              "        const dataTable =\n",
              "          await google.colab.kernel.invokeFunction('convertToInteractive',\n",
              "                                                    [key], {});\n",
              "        if (!dataTable) return;\n",
              "\n",
              "        const docLinkHtml = 'Like what you see? Visit the ' +\n",
              "          '<a target=\"_blank\" href=https://colab.research.google.com/notebooks/data_table.ipynb>data table notebook</a>'\n",
              "          + ' to learn more about interactive tables.';\n",
              "        element.innerHTML = '';\n",
              "        dataTable['output_type'] = 'display_data';\n",
              "        await google.colab.output.renderOutput(dataTable, element);\n",
              "        const docLink = document.createElement('div');\n",
              "        docLink.innerHTML = docLinkHtml;\n",
              "        element.appendChild(docLink);\n",
              "      }\n",
              "    </script>\n",
              "  </div>\n",
              "\n",
              "\n",
              "<div id=\"df-bfb8b882-f186-4311-9e82-26d5ed4151ea\">\n",
              "  <button class=\"colab-df-quickchart\" onclick=\"quickchart('df-bfb8b882-f186-4311-9e82-26d5ed4151ea')\"\n",
              "            title=\"Suggest charts\"\n",
              "            style=\"display:none;\">\n",
              "\n",
              "<svg xmlns=\"http://www.w3.org/2000/svg\" height=\"24px\"viewBox=\"0 0 24 24\"\n",
              "     width=\"24px\">\n",
              "    <g>\n",
              "        <path d=\"M19 3H5c-1.1 0-2 .9-2 2v14c0 1.1.9 2 2 2h14c1.1 0 2-.9 2-2V5c0-1.1-.9-2-2-2zM9 17H7v-7h2v7zm4 0h-2V7h2v10zm4 0h-2v-4h2v4z\"/>\n",
              "    </g>\n",
              "</svg>\n",
              "  </button>\n",
              "\n",
              "<style>\n",
              "  .colab-df-quickchart {\n",
              "      --bg-color: #E8F0FE;\n",
              "      --fill-color: #1967D2;\n",
              "      --hover-bg-color: #E2EBFA;\n",
              "      --hover-fill-color: #174EA6;\n",
              "      --disabled-fill-color: #AAA;\n",
              "      --disabled-bg-color: #DDD;\n",
              "  }\n",
              "\n",
              "  [theme=dark] .colab-df-quickchart {\n",
              "      --bg-color: #3B4455;\n",
              "      --fill-color: #D2E3FC;\n",
              "      --hover-bg-color: #434B5C;\n",
              "      --hover-fill-color: #FFFFFF;\n",
              "      --disabled-bg-color: #3B4455;\n",
              "      --disabled-fill-color: #666;\n",
              "  }\n",
              "\n",
              "  .colab-df-quickchart {\n",
              "    background-color: var(--bg-color);\n",
              "    border: none;\n",
              "    border-radius: 50%;\n",
              "    cursor: pointer;\n",
              "    display: none;\n",
              "    fill: var(--fill-color);\n",
              "    height: 32px;\n",
              "    padding: 0;\n",
              "    width: 32px;\n",
              "  }\n",
              "\n",
              "  .colab-df-quickchart:hover {\n",
              "    background-color: var(--hover-bg-color);\n",
              "    box-shadow: 0 1px 2px rgba(60, 64, 67, 0.3), 0 1px 3px 1px rgba(60, 64, 67, 0.15);\n",
              "    fill: var(--button-hover-fill-color);\n",
              "  }\n",
              "\n",
              "  .colab-df-quickchart-complete:disabled,\n",
              "  .colab-df-quickchart-complete:disabled:hover {\n",
              "    background-color: var(--disabled-bg-color);\n",
              "    fill: var(--disabled-fill-color);\n",
              "    box-shadow: none;\n",
              "  }\n",
              "\n",
              "  .colab-df-spinner {\n",
              "    border: 2px solid var(--fill-color);\n",
              "    border-color: transparent;\n",
              "    border-bottom-color: var(--fill-color);\n",
              "    animation:\n",
              "      spin 1s steps(1) infinite;\n",
              "  }\n",
              "\n",
              "  @keyframes spin {\n",
              "    0% {\n",
              "      border-color: transparent;\n",
              "      border-bottom-color: var(--fill-color);\n",
              "      border-left-color: var(--fill-color);\n",
              "    }\n",
              "    20% {\n",
              "      border-color: transparent;\n",
              "      border-left-color: var(--fill-color);\n",
              "      border-top-color: var(--fill-color);\n",
              "    }\n",
              "    30% {\n",
              "      border-color: transparent;\n",
              "      border-left-color: var(--fill-color);\n",
              "      border-top-color: var(--fill-color);\n",
              "      border-right-color: var(--fill-color);\n",
              "    }\n",
              "    40% {\n",
              "      border-color: transparent;\n",
              "      border-right-color: var(--fill-color);\n",
              "      border-top-color: var(--fill-color);\n",
              "    }\n",
              "    60% {\n",
              "      border-color: transparent;\n",
              "      border-right-color: var(--fill-color);\n",
              "    }\n",
              "    80% {\n",
              "      border-color: transparent;\n",
              "      border-right-color: var(--fill-color);\n",
              "      border-bottom-color: var(--fill-color);\n",
              "    }\n",
              "    90% {\n",
              "      border-color: transparent;\n",
              "      border-bottom-color: var(--fill-color);\n",
              "    }\n",
              "  }\n",
              "</style>\n",
              "\n",
              "  <script>\n",
              "    async function quickchart(key) {\n",
              "      const quickchartButtonEl =\n",
              "        document.querySelector('#' + key + ' button');\n",
              "      quickchartButtonEl.disabled = true;  // To prevent multiple clicks.\n",
              "      quickchartButtonEl.classList.add('colab-df-spinner');\n",
              "      try {\n",
              "        const charts = await google.colab.kernel.invokeFunction(\n",
              "            'suggestCharts', [key], {});\n",
              "      } catch (error) {\n",
              "        console.error('Error during call to suggestCharts:', error);\n",
              "      }\n",
              "      quickchartButtonEl.classList.remove('colab-df-spinner');\n",
              "      quickchartButtonEl.classList.add('colab-df-quickchart-complete');\n",
              "    }\n",
              "    (() => {\n",
              "      let quickchartButtonEl =\n",
              "        document.querySelector('#df-bfb8b882-f186-4311-9e82-26d5ed4151ea button');\n",
              "      quickchartButtonEl.style.display =\n",
              "        google.colab.kernel.accessAllowed ? 'block' : 'none';\n",
              "    })();\n",
              "  </script>\n",
              "</div>\n",
              "\n",
              "    </div>\n",
              "  </div>\n"
            ],
            "application/vnd.google.colaboratory.intrinsic+json": {
              "type": "dataframe",
              "summary": "{\n  \"name\": \"df\",\n  \"rows\": 4,\n  \"fields\": [\n    {\n      \"column\": \"User_ID\",\n      \"properties\": {\n        \"dtype\": \"number\",\n        \"std\": 482567,\n        \"min\": 1026,\n        \"max\": 1001680,\n        \"num_unique_values\": 4,\n        \"samples\": [\n          5891,\n          1026,\n          550068\n        ],\n        \"semantic_type\": \"\",\n        \"description\": \"\"\n      }\n    },\n    {\n      \"column\": \"Product_ID\",\n      \"properties\": {\n        \"dtype\": \"string\",\n        \"num_unique_values\": 4,\n        \"samples\": [\n          3631,\n          \"1880\",\n          \"550068\"\n        ],\n        \"semantic_type\": \"\",\n        \"description\": \"\"\n      }\n    },\n    {\n      \"column\": \"Gender\",\n      \"properties\": {\n        \"dtype\": \"string\",\n        \"num_unique_values\": 4,\n        \"samples\": [\n          2,\n          \"414259\",\n          \"550068\"\n        ],\n        \"semantic_type\": \"\",\n        \"description\": \"\"\n      }\n    },\n    {\n      \"column\": \"Age\",\n      \"properties\": {\n        \"dtype\": \"string\",\n        \"num_unique_values\": 4,\n        \"samples\": [\n          7,\n          \"219587\",\n          \"550068\"\n        ],\n        \"semantic_type\": \"\",\n        \"description\": \"\"\n      }\n    },\n    {\n      \"column\": \"Occupation\",\n      \"properties\": {\n        \"dtype\": \"number\",\n        \"std\": 265177,\n        \"min\": 4,\n        \"max\": 550068,\n        \"num_unique_values\": 4,\n        \"samples\": [\n          21,\n          72308,\n          550068\n        ],\n        \"semantic_type\": \"\",\n        \"description\": \"\"\n      }\n    },\n    {\n      \"column\": \"City_Category\",\n      \"properties\": {\n        \"dtype\": \"string\",\n        \"num_unique_values\": 4,\n        \"samples\": [\n          3,\n          \"231173\",\n          \"550068\"\n        ],\n        \"semantic_type\": \"\",\n        \"description\": \"\"\n      }\n    },\n    {\n      \"column\": \"Stay_In_Current_City_Years\",\n      \"properties\": {\n        \"dtype\": \"string\",\n        \"num_unique_values\": 4,\n        \"samples\": [\n          5,\n          \"193821\",\n          \"550068\"\n        ],\n        \"semantic_type\": \"\",\n        \"description\": \"\"\n      }\n    },\n    {\n      \"column\": \"Marital_Status\",\n      \"properties\": {\n        \"dtype\": \"string\",\n        \"num_unique_values\": 4,\n        \"samples\": [\n          2,\n          \"324731\",\n          \"550068\"\n        ],\n        \"semantic_type\": \"\",\n        \"description\": \"\"\n      }\n    },\n    {\n      \"column\": \"Product_Category\",\n      \"properties\": {\n        \"dtype\": \"number\",\n        \"std\": 259805,\n        \"min\": 5,\n        \"max\": 550068,\n        \"num_unique_values\": 4,\n        \"samples\": [\n          20,\n          150933,\n          550068\n        ],\n        \"semantic_type\": \"\",\n        \"description\": \"\"\n      }\n    }\n  ]\n}"
            }
          },
          "metadata": {},
          "execution_count": 7
        }
      ]
    },
    {
      "cell_type": "code",
      "source": [
        "df.duplicated().sum()"
      ],
      "metadata": {
        "colab": {
          "base_uri": "https://localhost:8080/"
        },
        "id": "MMFyTZGiO9EG",
        "outputId": "4ee36d2d-4295-47e3-d4a1-5b33d73a3131"
      },
      "execution_count": null,
      "outputs": [
        {
          "output_type": "execute_result",
          "data": {
            "text/plain": [
              "0"
            ]
          },
          "metadata": {},
          "execution_count": 8
        }
      ]
    },
    {
      "cell_type": "code",
      "source": [
        "df.describe()"
      ],
      "metadata": {
        "colab": {
          "base_uri": "https://localhost:8080/",
          "height": 300
        },
        "id": "Awg7sPSVwfei",
        "outputId": "c62ab928-9666-4e28-9495-c24645d64643"
      },
      "execution_count": null,
      "outputs": [
        {
          "output_type": "execute_result",
          "data": {
            "text/plain": [
              "            Purchase\n",
              "count  550068.000000\n",
              "mean     9263.968713\n",
              "std      5023.065394\n",
              "min        12.000000\n",
              "25%      5823.000000\n",
              "50%      8047.000000\n",
              "75%     12054.000000\n",
              "max     23961.000000"
            ],
            "text/html": [
              "\n",
              "  <div id=\"df-cde023f0-9bab-4924-b051-2414b48c85f8\" class=\"colab-df-container\">\n",
              "    <div>\n",
              "<style scoped>\n",
              "    .dataframe tbody tr th:only-of-type {\n",
              "        vertical-align: middle;\n",
              "    }\n",
              "\n",
              "    .dataframe tbody tr th {\n",
              "        vertical-align: top;\n",
              "    }\n",
              "\n",
              "    .dataframe thead th {\n",
              "        text-align: right;\n",
              "    }\n",
              "</style>\n",
              "<table border=\"1\" class=\"dataframe\">\n",
              "  <thead>\n",
              "    <tr style=\"text-align: right;\">\n",
              "      <th></th>\n",
              "      <th>Purchase</th>\n",
              "    </tr>\n",
              "  </thead>\n",
              "  <tbody>\n",
              "    <tr>\n",
              "      <th>count</th>\n",
              "      <td>550068.000000</td>\n",
              "    </tr>\n",
              "    <tr>\n",
              "      <th>mean</th>\n",
              "      <td>9263.968713</td>\n",
              "    </tr>\n",
              "    <tr>\n",
              "      <th>std</th>\n",
              "      <td>5023.065394</td>\n",
              "    </tr>\n",
              "    <tr>\n",
              "      <th>min</th>\n",
              "      <td>12.000000</td>\n",
              "    </tr>\n",
              "    <tr>\n",
              "      <th>25%</th>\n",
              "      <td>5823.000000</td>\n",
              "    </tr>\n",
              "    <tr>\n",
              "      <th>50%</th>\n",
              "      <td>8047.000000</td>\n",
              "    </tr>\n",
              "    <tr>\n",
              "      <th>75%</th>\n",
              "      <td>12054.000000</td>\n",
              "    </tr>\n",
              "    <tr>\n",
              "      <th>max</th>\n",
              "      <td>23961.000000</td>\n",
              "    </tr>\n",
              "  </tbody>\n",
              "</table>\n",
              "</div>\n",
              "    <div class=\"colab-df-buttons\">\n",
              "\n",
              "  <div class=\"colab-df-container\">\n",
              "    <button class=\"colab-df-convert\" onclick=\"convertToInteractive('df-cde023f0-9bab-4924-b051-2414b48c85f8')\"\n",
              "            title=\"Convert this dataframe to an interactive table.\"\n",
              "            style=\"display:none;\">\n",
              "\n",
              "  <svg xmlns=\"http://www.w3.org/2000/svg\" height=\"24px\" viewBox=\"0 -960 960 960\">\n",
              "    <path d=\"M120-120v-720h720v720H120Zm60-500h600v-160H180v160Zm220 220h160v-160H400v160Zm0 220h160v-160H400v160ZM180-400h160v-160H180v160Zm440 0h160v-160H620v160ZM180-180h160v-160H180v160Zm440 0h160v-160H620v160Z\"/>\n",
              "  </svg>\n",
              "    </button>\n",
              "\n",
              "  <style>\n",
              "    .colab-df-container {\n",
              "      display:flex;\n",
              "      gap: 12px;\n",
              "    }\n",
              "\n",
              "    .colab-df-convert {\n",
              "      background-color: #E8F0FE;\n",
              "      border: none;\n",
              "      border-radius: 50%;\n",
              "      cursor: pointer;\n",
              "      display: none;\n",
              "      fill: #1967D2;\n",
              "      height: 32px;\n",
              "      padding: 0 0 0 0;\n",
              "      width: 32px;\n",
              "    }\n",
              "\n",
              "    .colab-df-convert:hover {\n",
              "      background-color: #E2EBFA;\n",
              "      box-shadow: 0px 1px 2px rgba(60, 64, 67, 0.3), 0px 1px 3px 1px rgba(60, 64, 67, 0.15);\n",
              "      fill: #174EA6;\n",
              "    }\n",
              "\n",
              "    .colab-df-buttons div {\n",
              "      margin-bottom: 4px;\n",
              "    }\n",
              "\n",
              "    [theme=dark] .colab-df-convert {\n",
              "      background-color: #3B4455;\n",
              "      fill: #D2E3FC;\n",
              "    }\n",
              "\n",
              "    [theme=dark] .colab-df-convert:hover {\n",
              "      background-color: #434B5C;\n",
              "      box-shadow: 0px 1px 3px 1px rgba(0, 0, 0, 0.15);\n",
              "      filter: drop-shadow(0px 1px 2px rgba(0, 0, 0, 0.3));\n",
              "      fill: #FFFFFF;\n",
              "    }\n",
              "  </style>\n",
              "\n",
              "    <script>\n",
              "      const buttonEl =\n",
              "        document.querySelector('#df-cde023f0-9bab-4924-b051-2414b48c85f8 button.colab-df-convert');\n",
              "      buttonEl.style.display =\n",
              "        google.colab.kernel.accessAllowed ? 'block' : 'none';\n",
              "\n",
              "      async function convertToInteractive(key) {\n",
              "        const element = document.querySelector('#df-cde023f0-9bab-4924-b051-2414b48c85f8');\n",
              "        const dataTable =\n",
              "          await google.colab.kernel.invokeFunction('convertToInteractive',\n",
              "                                                    [key], {});\n",
              "        if (!dataTable) return;\n",
              "\n",
              "        const docLinkHtml = 'Like what you see? Visit the ' +\n",
              "          '<a target=\"_blank\" href=https://colab.research.google.com/notebooks/data_table.ipynb>data table notebook</a>'\n",
              "          + ' to learn more about interactive tables.';\n",
              "        element.innerHTML = '';\n",
              "        dataTable['output_type'] = 'display_data';\n",
              "        await google.colab.output.renderOutput(dataTable, element);\n",
              "        const docLink = document.createElement('div');\n",
              "        docLink.innerHTML = docLinkHtml;\n",
              "        element.appendChild(docLink);\n",
              "      }\n",
              "    </script>\n",
              "  </div>\n",
              "\n",
              "\n",
              "<div id=\"df-63a4f223-511b-4fd6-8c88-d89d5aa43a97\">\n",
              "  <button class=\"colab-df-quickchart\" onclick=\"quickchart('df-63a4f223-511b-4fd6-8c88-d89d5aa43a97')\"\n",
              "            title=\"Suggest charts\"\n",
              "            style=\"display:none;\">\n",
              "\n",
              "<svg xmlns=\"http://www.w3.org/2000/svg\" height=\"24px\"viewBox=\"0 0 24 24\"\n",
              "     width=\"24px\">\n",
              "    <g>\n",
              "        <path d=\"M19 3H5c-1.1 0-2 .9-2 2v14c0 1.1.9 2 2 2h14c1.1 0 2-.9 2-2V5c0-1.1-.9-2-2-2zM9 17H7v-7h2v7zm4 0h-2V7h2v10zm4 0h-2v-4h2v4z\"/>\n",
              "    </g>\n",
              "</svg>\n",
              "  </button>\n",
              "\n",
              "<style>\n",
              "  .colab-df-quickchart {\n",
              "      --bg-color: #E8F0FE;\n",
              "      --fill-color: #1967D2;\n",
              "      --hover-bg-color: #E2EBFA;\n",
              "      --hover-fill-color: #174EA6;\n",
              "      --disabled-fill-color: #AAA;\n",
              "      --disabled-bg-color: #DDD;\n",
              "  }\n",
              "\n",
              "  [theme=dark] .colab-df-quickchart {\n",
              "      --bg-color: #3B4455;\n",
              "      --fill-color: #D2E3FC;\n",
              "      --hover-bg-color: #434B5C;\n",
              "      --hover-fill-color: #FFFFFF;\n",
              "      --disabled-bg-color: #3B4455;\n",
              "      --disabled-fill-color: #666;\n",
              "  }\n",
              "\n",
              "  .colab-df-quickchart {\n",
              "    background-color: var(--bg-color);\n",
              "    border: none;\n",
              "    border-radius: 50%;\n",
              "    cursor: pointer;\n",
              "    display: none;\n",
              "    fill: var(--fill-color);\n",
              "    height: 32px;\n",
              "    padding: 0;\n",
              "    width: 32px;\n",
              "  }\n",
              "\n",
              "  .colab-df-quickchart:hover {\n",
              "    background-color: var(--hover-bg-color);\n",
              "    box-shadow: 0 1px 2px rgba(60, 64, 67, 0.3), 0 1px 3px 1px rgba(60, 64, 67, 0.15);\n",
              "    fill: var(--button-hover-fill-color);\n",
              "  }\n",
              "\n",
              "  .colab-df-quickchart-complete:disabled,\n",
              "  .colab-df-quickchart-complete:disabled:hover {\n",
              "    background-color: var(--disabled-bg-color);\n",
              "    fill: var(--disabled-fill-color);\n",
              "    box-shadow: none;\n",
              "  }\n",
              "\n",
              "  .colab-df-spinner {\n",
              "    border: 2px solid var(--fill-color);\n",
              "    border-color: transparent;\n",
              "    border-bottom-color: var(--fill-color);\n",
              "    animation:\n",
              "      spin 1s steps(1) infinite;\n",
              "  }\n",
              "\n",
              "  @keyframes spin {\n",
              "    0% {\n",
              "      border-color: transparent;\n",
              "      border-bottom-color: var(--fill-color);\n",
              "      border-left-color: var(--fill-color);\n",
              "    }\n",
              "    20% {\n",
              "      border-color: transparent;\n",
              "      border-left-color: var(--fill-color);\n",
              "      border-top-color: var(--fill-color);\n",
              "    }\n",
              "    30% {\n",
              "      border-color: transparent;\n",
              "      border-left-color: var(--fill-color);\n",
              "      border-top-color: var(--fill-color);\n",
              "      border-right-color: var(--fill-color);\n",
              "    }\n",
              "    40% {\n",
              "      border-color: transparent;\n",
              "      border-right-color: var(--fill-color);\n",
              "      border-top-color: var(--fill-color);\n",
              "    }\n",
              "    60% {\n",
              "      border-color: transparent;\n",
              "      border-right-color: var(--fill-color);\n",
              "    }\n",
              "    80% {\n",
              "      border-color: transparent;\n",
              "      border-right-color: var(--fill-color);\n",
              "      border-bottom-color: var(--fill-color);\n",
              "    }\n",
              "    90% {\n",
              "      border-color: transparent;\n",
              "      border-bottom-color: var(--fill-color);\n",
              "    }\n",
              "  }\n",
              "</style>\n",
              "\n",
              "  <script>\n",
              "    async function quickchart(key) {\n",
              "      const quickchartButtonEl =\n",
              "        document.querySelector('#' + key + ' button');\n",
              "      quickchartButtonEl.disabled = true;  // To prevent multiple clicks.\n",
              "      quickchartButtonEl.classList.add('colab-df-spinner');\n",
              "      try {\n",
              "        const charts = await google.colab.kernel.invokeFunction(\n",
              "            'suggestCharts', [key], {});\n",
              "      } catch (error) {\n",
              "        console.error('Error during call to suggestCharts:', error);\n",
              "      }\n",
              "      quickchartButtonEl.classList.remove('colab-df-spinner');\n",
              "      quickchartButtonEl.classList.add('colab-df-quickchart-complete');\n",
              "    }\n",
              "    (() => {\n",
              "      let quickchartButtonEl =\n",
              "        document.querySelector('#df-63a4f223-511b-4fd6-8c88-d89d5aa43a97 button');\n",
              "      quickchartButtonEl.style.display =\n",
              "        google.colab.kernel.accessAllowed ? 'block' : 'none';\n",
              "    })();\n",
              "  </script>\n",
              "</div>\n",
              "\n",
              "    </div>\n",
              "  </div>\n"
            ],
            "application/vnd.google.colaboratory.intrinsic+json": {
              "type": "dataframe",
              "summary": "{\n  \"name\": \"df\",\n  \"rows\": 8,\n  \"fields\": [\n    {\n      \"column\": \"Purchase\",\n      \"properties\": {\n        \"dtype\": \"number\",\n        \"std\": 191363.80903912007,\n        \"min\": 12.0,\n        \"max\": 550068.0,\n        \"num_unique_values\": 8,\n        \"samples\": [\n          9263.968712959126,\n          8047.0,\n          550068.0\n        ],\n        \"semantic_type\": \"\",\n        \"description\": \"\"\n      }\n    }\n  ]\n}"
            }
          },
          "metadata": {},
          "execution_count": 9
        }
      ]
    },
    {
      "cell_type": "markdown",
      "source": [
        "# Handeling Outliers"
      ],
      "metadata": {
        "id": "vtAaRzv_rL0u"
      }
    },
    {
      "cell_type": "code",
      "source": [
        "sns.boxplot(df['Purchase'])"
      ],
      "metadata": {
        "colab": {
          "base_uri": "https://localhost:8080/",
          "height": 431
        },
        "id": "_ncosDR-qkw2",
        "outputId": "e689afae-4661-4e40-e246-99208c4a724b"
      },
      "execution_count": null,
      "outputs": [
        {
          "output_type": "execute_result",
          "data": {
            "text/plain": [
              "<Axes: ylabel='Purchase'>"
            ]
          },
          "metadata": {},
          "execution_count": 10
        },
        {
          "output_type": "display_data",
          "data": {
            "text/plain": [
              "<Figure size 640x480 with 1 Axes>"
            ],
            "image/png": "[encoded data removed]"
          },
          "metadata": {}
        }
      ]
    },
    {
      "cell_type": "code",
      "source": [
        "Q1=df['Purchase'].quantile(0.25)\n",
        "Q3=df['Purchase'].quantile(0.75)\n",
        "IQR=Q3-Q1\n",
        "upper_boundary=Q3+IQR*1.5\n",
        "lower_boundary=Q1-IQR*1.5\n",
        "df['Purchase']=np.clip(df['Purchase'],lower_boundary,upper_boundary)"
      ],
      "metadata": {
        "id": "tiQksqZtrcrQ"
      },
      "execution_count": null,
      "outputs": []
    },
    {
      "cell_type": "markdown",
      "source": [
        "#Visual Analysis"
      ],
      "metadata": {
        "id": "5wwisw8Ja09J"
      }
    },
    {
      "cell_type": "markdown",
      "source": [
        "## Univariate Analysis"
      ],
      "metadata": {
        "id": "-gmqDxA7icou"
      }
    },
    {
      "cell_type": "code",
      "source": [
        "sns.histplot(data=df,x='Purchase')"
      ],
      "metadata": {
        "id": "Z7SVIay1_Dip",
        "colab": {
          "base_uri": "https://localhost:8080/",
          "height": 466
        },
        "outputId": "902658fc-94d7-4384-9af8-28ccc7826a01"
      },
      "execution_count": null,
      "outputs": [
        {
          "output_type": "execute_result",
          "data": {
            "text/plain": [
              "<Axes: xlabel='Purchase', ylabel='Count'>"
            ]
          },
          "metadata": {},
          "execution_count": 12
        },
        {
          "output_type": "display_data",
          "data": {
            "text/plain": [
              "<Figure size 640x480 with 1 Axes>"
            ],
            "image/png": "[encoded data removed]"
          },
          "metadata": {}
        }
      ]
    },
    {
      "cell_type": "code",
      "source": [
        "gender_proportion=(df['Gender'].value_counts(normalize=True))*100\n",
        "value_gender=gender_proportion.to_numpy()\n",
        "\n",
        "marital_status_proportion=(df['Marital_Status'].value_counts(normalize=True))*100\n",
        "value_marital_status=marital_status_proportion.to_numpy()\n",
        "\n",
        "city_category_proportion=(df['City_Category'].value_counts(normalize=True))*100\n",
        "value_city_category=city_category_proportion.to_numpy()\n",
        "plt.figure(figsize=(12, 8))\n",
        "plt.subplot(1,3,1)\n",
        "\n",
        "plt.pie(value_gender,labels=['Male','Female'],explode=(0.05,0),colors=['#FFB6C1', '#87CEFA'],autopct='%1.1f%%',startangle=90)\n",
        "plt.title(\"Gender Distribution\")\n",
        "\n",
        "plt.subplot(1,3,2)\n",
        "plt.pie(value_marital_status,labels=['Not Married','Married'],explode=(0.05,0),colors=['#2196F3', '#FFC107'],autopct='%1.1f%%',startangle=90)\n",
        "plt.title(\"Marital Status Distribution\")\n",
        "\n",
        "plt.subplot(1,3,3)\n",
        "plt.pie(value_city_category,labels=['B','C','A'],explode=(0.05,0.05,0),colors=['#FF5722', '#FFEB3B','#009688'],autopct='%1.1f%%',startangle=90)\n",
        "plt.title(\"Marital Status Distribution\")\n",
        "\n",
        "plt.subplots_adjust(wspace=1, hspace=0.5)\n",
        "\n",
        "\n",
        "plt.show()\n"
      ],
      "metadata": {
        "colab": {
          "base_uri": "https://localhost:8080/",
          "height": 168
        },
        "id": "hCnQj5Ncjtik",
        "outputId": "f166ea2b-f0f5-4294-9f30-e8e291fc9d60"
      },
      "execution_count": null,
      "outputs": [
        {
          "output_type": "display_data",
          "data": {
            "text/plain": [
              "<Figure size 1200x800 with 3 Axes>"
            ],
            "image/png": "[encoded data removed]"
          },
          "metadata": {}
        }
      ]
    },
    {
      "cell_type": "markdown",
      "source": [
        "## Bivariate Analysis"
      ],
      "metadata": {
        "id": "GzZCaI-iX_lF"
      }
    },
    {
      "cell_type": "code",
      "source": [
        "sns.boxplot(data=df,x='Gender',y='Purchase',hue='Gender')"
      ],
      "metadata": {
        "id": "cwuIi_wtrJpt",
        "colab": {
          "base_uri": "https://localhost:8080/",
          "height": 466
        },
        "outputId": "d6e3f943-3b3a-4c50-abab-11454b5713a6"
      },
      "execution_count": null,
      "outputs": [
        {
          "output_type": "execute_result",
          "data": {
            "text/plain": [
              "<Axes: xlabel='Gender', ylabel='Purchase'>"
            ]
          },
          "metadata": {},
          "execution_count": 14
        },
        {
          "output_type": "display_data",
          "data": {
            "text/plain": [
              "<Figure size 640x480 with 1 Axes>"
            ],
            "image/png": "[encoded data removed]"
          },
          "metadata": {}
        }
      ]
    },
    {
      "cell_type": "code",
      "source": [
        "sns.boxplot(data=df,x='Age',y='Purchase',hue='Age')"
      ],
      "metadata": {
        "colab": {
          "base_uri": "https://localhost:8080/",
          "height": 466
        },
        "id": "EfVcsT6UZhN6",
        "outputId": "e9f83854-27a5-438e-da33-144d7d00ac38"
      },
      "execution_count": null,
      "outputs": [
        {
          "output_type": "execute_result",
          "data": {
            "text/plain": [
              "<Axes: xlabel='Age', ylabel='Purchase'>"
            ]
          },
          "metadata": {},
          "execution_count": 15
        },
        {
          "output_type": "display_data",
          "data": {
            "text/plain": [
              "<Figure size 640x480 with 1 Axes>"
            ],
            "image/png": "[encoded data removed]"
          },
          "metadata": {}
        }
      ]
    },
    {
      "cell_type": "code",
      "source": [
        "sns.boxplot(data=df,x='Marital_Status',y='Purchase',hue='Marital_Status')"
      ],
      "metadata": {
        "colab": {
          "base_uri": "https://localhost:8080/",
          "height": 467
        },
        "id": "53JxIQhpZlA3",
        "outputId": "41575e93-4c98-43ca-999a-020648f17c82"
      },
      "execution_count": null,
      "outputs": [
        {
          "output_type": "execute_result",
          "data": {
            "text/plain": [
              "<Axes: xlabel='Marital_Status', ylabel='Purchase'>"
            ]
          },
          "metadata": {},
          "execution_count": 16
        },
        {
          "output_type": "display_data",
          "data": {
            "text/plain": [
              "<Figure size 640x480 with 1 Axes>"
            ],
            "image/png": "[encoded data removed]"
          },
          "metadata": {}
        }
      ]
    },
    {
      "cell_type": "markdown",
      "source": [
        "## Multivariate Analysis"
      ],
      "metadata": {
        "id": "tPYgmID2au-A"
      }
    },
    {
      "cell_type": "code",
      "source": [
        "sns.boxplot(x='Age', y='Purchase', hue='Marital_Status', data=df)"
      ],
      "metadata": {
        "colab": {
          "base_uri": "https://localhost:8080/",
          "height": 466
        },
        "id": "vdXGEN7aapx4",
        "outputId": "b1e06ce7-3fcb-4ac3-a60a-763b2563349a"
      },
      "execution_count": null,
      "outputs": [
        {
          "output_type": "execute_result",
          "data": {
            "text/plain": [
              "<Axes: xlabel='Age', ylabel='Purchase'>"
            ]
          },
          "metadata": {},
          "execution_count": 17
        },
        {
          "output_type": "display_data",
          "data": {
            "text/plain": [
              "<Figure size 640x480 with 1 Axes>"
            ],
            "image/png": "[encoded data removed]"
          },
          "metadata": {}
        }
      ]
    },
    {
      "cell_type": "markdown",
      "source": [
        "# Computing CLT"
      ],
      "metadata": {
        "id": "iorAsvGqXRnN"
      }
    },
    {
      "cell_type": "markdown",
      "source": [
        "## How does Gender affect the amount spent?"
      ],
      "metadata": {
        "id": "1vuFnSxeukmY"
      }
    },
    {
      "cell_type": "code",
      "source": [
        "male_spending = df[df['Gender'] == 'M']['Purchase']\n",
        "female_spending = df[df['Gender'] == 'F']['Purchase']\n",
        "\n",
        "def compute_confidence_interval(data, confidence=0.95):\n",
        "    mean = np.mean(data)\n",
        "    std_dev = np.std(data, ddof=1)\n",
        "    n = len(data)\n",
        "    z_score = norm.ppf((1 + confidence) / 2)\n",
        "    sem = std_dev / np.sqrt(n)\n",
        "    margin_of_error = z_score * sem\n",
        "    return mean, mean - margin_of_error, mean + margin_of_error\n",
        "\n",
        "\n",
        "def bootstrap_confidence_intervals(data, sample_size, num_bootstraps=10000, confidence=0.95):\n",
        "    sample_means = []\n",
        "\n",
        "    for _ in range(num_bootstraps):\n",
        "        sample = np.random.choice(data, size=sample_size, replace=True)\n",
        "        mean = np.mean(sample)\n",
        "        sample_means.append(mean)\n",
        "\n",
        "    sample_means = np.array(sample_means)\n",
        "    lower_bound = np.percentile(sample_means, 2.5)\n",
        "    upper_bound = np.percentile(sample_means, 97.5)\n",
        "\n",
        "    return np.mean(sample_means), lower_bound, upper_bound\n",
        "\n",
        "\n",
        "male_full_ci = compute_confidence_interval(male_spending)\n",
        "female_full_ci = compute_confidence_interval(female_spending)\n",
        "\n",
        "sample_sizes = [300, 3000, 30000]\n",
        "\n",
        "male_ci_samples = {}\n",
        "for size in sample_sizes:\n",
        "    male_ci_samples[size] = bootstrap_confidence_intervals(male_spending, sample_size=size)\n",
        "\n",
        "female_ci_samples = {}\n",
        "for size in sample_sizes:\n",
        "    female_ci_samples[size] = bootstrap_confidence_intervals(female_spending, sample_size=size)\n",
        "\n",
        "print(\"95% Confidence Interval for Male Spending (Full Dataset):\", male_full_ci)\n",
        "print(\"95% Confidence Interval for Female Spending (Full Dataset):\", female_full_ci)\n",
        "for size in sample_sizes:\n",
        "    print(f\"95% Confidence Interval for Male Spending (Sample Size {size}):\", male_ci_samples[size])\n",
        "    print(f\"95% Confidence Interval for Female Spending (Sample Size {size}):\", female_ci_samples[size])"
      ],
      "metadata": {
        "colab": {
          "base_uri": "https://localhost:8080/"
        },
        "id": "pes1kvf5wFst",
        "outputId": "0f55718d-ab12-4c55-d632-6cbfe6d91806"
      },
      "execution_count": null,
      "outputs": [
        {
          "output_type": "stream",
          "name": "stdout",
          "text": [
            "95% Confidence Interval for Male Spending (Full Dataset): (9428.373454771048, 9412.938281340674, 9443.808628201423)\n",
            "95% Confidence Interval for Female Spending (Full Dataset): (8726.256326900279, 8701.029701180521, 8751.482952620036)\n",
            "95% Confidence Interval for Male Spending (Sample Size 300): (9420.945642833334, 8837.1325, 9990.687375)\n",
            "95% Confidence Interval for Female Spending (Sample Size 300): (8727.782072, 8205.511291666666, 9272.591666666665)\n",
            "95% Confidence Interval for Male Spending (Sample Size 3000): (9428.083854633334, 9244.5724625, 9611.549504166665)\n",
            "95% Confidence Interval for Female Spending (Sample Size 3000): (8724.372588866667, 8554.553845833334, 8893.740362499999)\n",
            "95% Confidence Interval for Male Spending (Sample Size 30000): (9428.342707371667, 9370.249605416668, 9485.449797916666)\n",
            "95% Confidence Interval for Female Spending (Sample Size 30000): (8726.067315803333, 8673.293275833334, 8779.772424166666)\n"
          ]
        }
      ]
    },
    {
      "cell_type": "markdown",
      "source": [
        "##How does Marital Status affect the amount spent?"
      ],
      "metadata": {
        "id": "SshD7nX9GFdN"
      }
    },
    {
      "cell_type": "code",
      "source": [
        "Married = df[df['Marital_Status'] == 'Married']['Purchase']\n",
        "Not_Married = df[df['Marital_Status'] == 'Not Married']['Purchase']\n",
        "\n",
        "def compute_confidence_interval(data, confidence=0.95):\n",
        "    mean = np.mean(data)\n",
        "    std_dev = np.std(data, ddof=1)\n",
        "    n = len(data)\n",
        "    z_score = norm.ppf((1 + confidence) / 2)\n",
        "    sem = std_dev / np.sqrt(n)\n",
        "    margin_of_error = z_score * sem\n",
        "    return mean, mean - margin_of_error, mean + margin_of_error\n",
        "\n",
        "\n",
        "def bootstrap_confidence_intervals(data, sample_size, num_bootstraps=10000, confidence=0.95):\n",
        "    sample_means = []\n",
        "\n",
        "    for _ in range(num_bootstraps):\n",
        "        sample = np.random.choice(data, size=sample_size, replace=True)\n",
        "        mean = np.mean(sample)\n",
        "        sample_means.append(mean)\n",
        "\n",
        "    sample_means = np.array(sample_means)\n",
        "    lower_bound = np.percentile(sample_means, 2.5)\n",
        "    upper_bound = np.percentile(sample_means, 97.5)\n",
        "\n",
        "    return np.mean(sample_means), lower_bound, upper_bound\n",
        "\n",
        "\n",
        "Married_ci = compute_confidence_interval(Married)\n",
        "Not_Married_ci = compute_confidence_interval(Not_Married)\n",
        "\n",
        "sample_sizes = [300, 3000, 30000]\n",
        "\n",
        "Married_ci_samples = {}\n",
        "for size in sample_sizes:\n",
        "    Married_ci_samples[size] = bootstrap_confidence_intervals(Married, sample_size=size)\n",
        "\n",
        "Not_Married_ci_samples = {}\n",
        "for size in sample_sizes:\n",
        "    Not_Married_ci_samples[size] = bootstrap_confidence_intervals(Not_Married, sample_size=size)\n",
        "\n",
        "print(\"95% Confidence Interval for Married (Full Dataset):\", Married_ci)\n",
        "print(\"95% Confidence Interval for Not_Married (Full Dataset):\", Not_Married_ci)\n",
        "for size in sample_sizes:\n",
        "    print(f\"95% Confidence Interval for Married (Sample Size {size}):\", Married_ci_samples[size])\n",
        "    print(f\"95% Confidence Interval for Not_Married (Sample Size {size}):\", Not_Married_ci_samples[size])"
      ],
      "metadata": {
        "colab": {
          "base_uri": "https://localhost:8080/"
        },
        "id": "WQ2dR_Tw3csG",
        "outputId": "abaad7fb-092c-4350-fb28-759cb35eced8"
      },
      "execution_count": null,
      "outputs": [
        {
          "output_type": "stream",
          "name": "stdout",
          "text": [
            "95% Confidence Interval for Married (Full Dataset): (9251.430701571424, 9230.822668493776, 9272.038734649072)\n",
            "95% Confidence Interval for Not_Married (Full Dataset): (9257.517959480308, 9240.302634521573, 9274.733284439044)\n",
            "95% Confidence Interval for Married (Sample Size 300): (9252.026323666667, 8691.1865, 9818.817875)\n",
            "95% Confidence Interval for Not_Married (Sample Size 300): (9256.894085833332, 8689.392583333334, 9828.241958333332)\n",
            "95% Confidence Interval for Married (Sample Size 3000): (9253.104641083335, 9075.703333333333, 9431.1191375)\n",
            "95% Confidence Interval for Not_Married (Sample Size 3000): (9256.241511049999, 9076.71545, 9440.143420833334)\n",
            "95% Confidence Interval for Married (Sample Size 30000): (9250.989716918335, 9195.066898333333, 9307.740016666667)\n",
            "95% Confidence Interval for Not_Married (Sample Size 30000): (9258.250587703335, 9202.68157625, 9314.344881666668)\n"
          ]
        }
      ]
    },
    {
      "cell_type": "markdown",
      "source": [
        "## How does Age affect the amount spent?"
      ],
      "metadata": {
        "id": "FXBAZaCZXMud"
      }
    },
    {
      "cell_type": "code",
      "source": [
        "age_group_1 = df[df['Age'] == '0-17']['Purchase']\n",
        "age_group_2 = df[df['Age'] == '18-25']['Purchase']\n",
        "age_group_3 = df[df['Age'] == '26-35']['Purchase']\n",
        "age_group_4 = df[df['Age'] == '36-45']['Purchase']\n",
        "age_group_5 = df[df['Age'] == '46-50']['Purchase']\n",
        "age_group_6 = df[df['Age'] == '51-55']['Purchase']\n",
        "age_group_7 = df[df['Age'] == '55+']['Purchase']\n",
        "\n",
        "def compute_confidence_interval(data, confidence=0.95):\n",
        "    mean = np.mean(data)\n",
        "    std_dev = np.std(data, ddof=1)\n",
        "    n = len(data)\n",
        "    z_score = norm.ppf((1 + confidence) / 2)\n",
        "    sem = std_dev / np.sqrt(n)\n",
        "    margin_of_error = z_score * sem\n",
        "    return mean, mean - margin_of_error, mean + margin_of_error\n",
        "\n",
        "\n",
        "def bootstrap_confidence_intervals(data, sample_size, num_bootstraps=10000, confidence=0.95):\n",
        "    sample_means = []\n",
        "\n",
        "    for _ in range(num_bootstraps):\n",
        "        sample = np.random.choice(data, size=sample_size, replace=True)\n",
        "        mean = np.mean(sample)\n",
        "        sample_means.append(mean)\n",
        "\n",
        "    sample_means = np.array(sample_means)\n",
        "    lower_bound = np.percentile(sample_means, 2.5)\n",
        "    upper_bound = np.percentile(sample_means, 97.5)\n",
        "\n",
        "    return np.mean(sample_means), lower_bound, upper_bound\n",
        "\n",
        "\n",
        "age_group_1_ci = compute_confidence_interval(age_group_1)\n",
        "age_group_2_ci = compute_confidence_interval(age_group_2)\n",
        "age_group_3_ci = compute_confidence_interval(age_group_3)\n",
        "age_group_4_ci = compute_confidence_interval(age_group_4)\n",
        "age_group_5_ci = compute_confidence_interval(age_group_5)\n",
        "age_group_6_ci = compute_confidence_interval(age_group_6)\n",
        "age_group_7_ci = compute_confidence_interval(age_group_7)\n",
        "\n",
        "sample_sizes = [300, 3000,30000]\n",
        "\n",
        "age_group_1_ci_samples = {}\n",
        "for size in sample_sizes:\n",
        "    age_group_1_ci_samples[size] = bootstrap_confidence_intervals(age_group_1, sample_size=size)\n",
        "\n",
        "age_group_2_ci_samples = {}\n",
        "for size in sample_sizes:\n",
        "    age_group_2_ci_samples[size] = bootstrap_confidence_intervals(age_group_2, sample_size=size)\n",
        "\n",
        "age_group_3_ci_samples = {}\n",
        "for size in sample_sizes:\n",
        "    age_group_3_ci_samples[size] = bootstrap_confidence_intervals(age_group_3, sample_size=size)\n",
        "\n",
        "age_group_4_ci_samples = {}\n",
        "for size in sample_sizes:\n",
        "    age_group_4_ci_samples[size] = bootstrap_confidence_intervals(age_group_4, sample_size=size)\n",
        "\n",
        "age_group_5_ci_samples = {}\n",
        "for size in sample_sizes:\n",
        "    age_group_5_ci_samples[size] = bootstrap_confidence_intervals(age_group_5, sample_size=size)\n",
        "\n",
        "age_group_6_ci_samples = {}\n",
        "for size in sample_sizes:\n",
        "    age_group_6_ci_samples[size] = bootstrap_confidence_intervals(age_group_6, sample_size=size)\n",
        "\n",
        "age_group_7_ci_samples = {}\n",
        "for size in sample_sizes:\n",
        "    age_group_7_ci_samples[size] = bootstrap_confidence_intervals(age_group_7, sample_size=size)\n",
        "\n",
        "\n",
        "\n",
        "print(\"95% Confidence Interval for age_group_1 (Full Dataset):\", age_group_1_ci)\n",
        "print(\"95% Confidence Interval for age_group_2 (Full Dataset):\", age_group_2_ci)\n",
        "print(\"95% Confidence Interval for age_group_3 (Full Dataset):\", age_group_3_ci)\n",
        "print(\"95% Confidence Interval for age_group_4  (Full Dataset):\", age_group_4_ci)\n",
        "print(\"95% Confidence Interval for age_group_5 (Full Dataset):\", age_group_5_ci)\n",
        "print(\"95% Confidence Interval for age_group_6 (Full Dataset):\", age_group_6_ci)\n",
        "print(\"95% Confidence Interval for age_group_7 (Full Dataset):\", age_group_7_ci)\n",
        "for size in sample_sizes:\n",
        "    print(f\"95% Confidence Interval for age_group_1 (Sample Size {size}):\", age_group_1_ci_samples[size])\n",
        "    print(f\"95% Confidence Interval for age_group_2 (Sample Size {size}):\", age_group_2_ci_samples[size])\n",
        "    print(f\"95% Confidence Interval for age_group_3 (Sample Size {size}):\", age_group_3_ci_samples[size])\n",
        "    print(f\"95% Confidence Interval for age_group_4 (Sample Size {size}):\", age_group_4_ci_samples[size])\n",
        "    print(f\"95% Confidence Interval for age_group_5 (Sample Size {size}):\", age_group_5_ci_samples[size])\n",
        "    print(f\"95% Confidence Interval for age_group_6 (Sample Size {size}):\", age_group_6_ci_samples[size])\n",
        "    print(f\"95% Confidence Interval for age_group_7 (Sample Size {size}):\", age_group_7_ci_samples[size])"
      ],
      "metadata": {
        "colab": {
          "base_uri": "https://localhost:8080/"
        },
        "id": "YxR-aXyk4Z2B",
        "outputId": "31c213db-b894-431c-fbcb-22a03c822072"
      },
      "execution_count": null,
      "outputs": [
        {
          "output_type": "stream",
          "name": "stdout",
          "text": [
            "95% Confidence Interval for age_group_1 (Full Dataset): (8925.539597404317, 8844.358422789364, 9006.72077201927)\n",
            "95% Confidence Interval for age_group_2 (Full Dataset): (9164.18955448525, 9133.023644301837, 9195.355464668664)\n",
            "95% Confidence Interval for age_group_3 (Full Dataset): (9244.947059707541, 9224.075600207458, 9265.818519207625)\n",
            "95% Confidence Interval for age_group_4  (Full Dataset): (9320.888549535055, 9291.369389994115, 9350.407709075995)\n",
            "95% Confidence Interval for age_group_5 (Full Dataset): (9198.531093411522, 9153.237776920549, 9243.824409902496)\n",
            "95% Confidence Interval for age_group_6 (Full Dataset): (9519.560427001896, 9469.132635561078, 9569.988218442713)\n",
            "95% Confidence Interval for age_group_7 (Full Dataset): (9319.768740699405, 9253.36824314327, 9386.16923825554)\n",
            "95% Confidence Interval for age_group_1 (Sample Size 300): (8925.481308499999, 8352.055375, 9518.076666666668)\n",
            "95% Confidence Interval for age_group_2 (Sample Size 300): (9161.918271833334, 8594.062625, 9724.697916666666)\n",
            "95% Confidence Interval for age_group_3 (Sample Size 300): (9243.131610166665, 8674.804125, 9819.903375)\n",
            "95% Confidence Interval for age_group_4 (Sample Size 300): (9317.188004833335, 8754.087333333333, 9882.157125)\n",
            "95% Confidence Interval for age_group_5 (Sample Size 300): (9197.556811666667, 8642.692833333333, 9761.947875)\n",
            "95% Confidence Interval for age_group_6 (Sample Size 300): (9519.0016375, 8959.956916666666, 10100.601208333333)\n",
            "95% Confidence Interval for age_group_7 (Sample Size 300): (9318.4375935, 8754.522875, 9878.821416666666)\n",
            "95% Confidence Interval for age_group_1 (Sample Size 3000): (8923.18749655, 8739.408333333333, 9105.542491666665)\n",
            "95% Confidence Interval for age_group_2 (Sample Size 3000): (9165.440469766667, 8984.337191666667, 9343.621379166667)\n",
            "95% Confidence Interval for age_group_3 (Sample Size 3000): (9244.053702283334, 9068.485829166666, 9421.119658333333)\n",
            "95% Confidence Interval for age_group_4 (Sample Size 3000): (9320.345250816665, 9144.205041666666, 9502.485070833334)\n",
            "95% Confidence Interval for age_group_5 (Sample Size 3000): (9200.0566737, 9024.350716666668, 9378.422029166666)\n",
            "95% Confidence Interval for age_group_6 (Sample Size 3000): (9519.225344, 9335.665695833333, 9700.3235625)\n",
            "95% Confidence Interval for age_group_7 (Sample Size 3000): (9322.034252950001, 9145.934779166666, 9502.053354166666)\n",
            "95% Confidence Interval for age_group_1 (Sample Size 30000): (8925.744848434999, 8868.005007083333, 8983.331869583333)\n",
            "95% Confidence Interval for age_group_2 (Sample Size 30000): (9164.277789681668, 9106.498885416666, 9220.349380833333)\n",
            "95% Confidence Interval for age_group_3 (Sample Size 30000): (9245.478321941666, 9188.31366625, 9302.683665833334)\n",
            "95% Confidence Interval for age_group_4 (Sample Size 30000): (9320.270316113332, 9262.19216, 9378.489990833334)\n",
            "95% Confidence Interval for age_group_5 (Sample Size 30000): (9198.426762806668, 9142.953164166667, 9253.428349583333)\n",
            "95% Confidence Interval for age_group_6 (Sample Size 30000): (9518.912651383334, 9461.652670416668, 9577.098058333333)\n",
            "95% Confidence Interval for age_group_7 (Sample Size 30000): (9319.727033238332, 9262.619300833332, 9376.21406)\n"
          ]
        }
      ]
    },
    {
      "cell_type": "markdown",
      "source": [
        "#Insights"
      ],
      "metadata": {
        "id": "Nr8oSKR8Kl87"
      }
    },
    {
      "cell_type": "markdown",
      "source": [
        "**Confidence Interval Overlap for Male and Female Spending**\n",
        "\n",
        "There is no overlap between the confidence intervals for males and females\n",
        "Males tend to spend more on average than females, as indicated by the non-overlapping confidence intervals. Walmart could focus on marketing higher-end or premium products to male customers to capitalize on their higher spending.\n",
        "\n",
        "**Confidence Interval Overlap for Married and Unmarried Spending**\n",
        "\n",
        "There is a small overlap between the confidence intervals for married and unmarried customers The spending behavior between married and unmarried customers is very similar, with only slight differences.\n",
        "\n",
        "**Confidence Interval Overlap for Different Age Groups**\n",
        "\n",
        "There is some overlap in some age groups.\n",
        "Age Group 1 has lower average spending, so Walmart could offer more affordable, youth-oriented products and promotions to attract younger customers and boost sales.\n",
        "Age Group 6  which spends more on average, could be targeted with premium products and exclusive deals, as they are likely to spend more."
      ],
      "metadata": {
        "id": "Z4qumpSZKrYw"
      }
    },
    {
      "cell_type": "markdown",
      "source": [
        "#Recommendations"
      ],
      "metadata": {
        "id": "oJ22TQDZKzJQ"
      }
    },
    {
      "cell_type": "markdown",
      "source": [
        "1) Young adults are significant spenders. Walmart should focus on offering exclusive discounts or loyalty programs to attract more customers in this age group.\n",
        "\n",
        "2) The age group 26-35 contribute to the majority of sales so Walmart should specifically cater to the preference of this demographic\n",
        "\n",
        "3) Older customers, particularly in the 51-55 and 55+ age groups, tend to spend more. Walmart can promote higher-end or premium products to appeal to this segment.\n",
        "\n",
        "4) Since males spend more on average, Walmart can create specific marketing campaigns tailored to female shoppers to boost their average spending.\n",
        "\n",
        "5) Married customers show similar spending\n",
        "patterns as unmarried, but family-oriented bundles or promotions can encourage them to buy more."
      ],
      "metadata": {
        "id": "qrmvnHINK1iN"
      }
    },
    {
      "cell_type": "code",
      "source": [],
      "metadata": {
        "id": "0eQcLrQmK_f-"
      },
      "execution_count": null,
      "outputs": []
    }
  ]
}